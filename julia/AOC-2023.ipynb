{
 "cells": [
  {
   "cell_type": "code",
   "execution_count": 28,
   "id": "5e077a47",
   "metadata": {},
   "outputs": [
    {
     "data": {
      "text/plain": [
       "(54331, 54518)"
      ]
     },
     "execution_count": 28,
     "metadata": {},
     "output_type": "execute_result"
    }
   ],
   "source": [
    "import regex as re\n",
    "\n",
    "ls = open(\"1\").read().split(\"\\n\")\n",
    "def cal1(l):\n",
    "    xs = re.findall(r\"\\d\", l)\n",
    "    return int(\"\".join(xs[0] + xs[-1]))\n",
    "\n",
    "ll = {\n",
    "    \"one\": 1,\n",
    "    \"two\": 2,\n",
    "    \"three\": 3,\n",
    "    \"four\": 4,\n",
    "    \"five\": 5,\n",
    "    \"six\": 6,\n",
    "    \"seven\": 7,\n",
    "    \"eight\": 8,\n",
    "    \"nine\": 9\n",
    "}\n",
    "def cal2(l):\n",
    "    xs = re.findall(r\"\\d|(one)|(two)|(three)|(four)|(five)|(six)|(seven)|(eight)|(nine)\".replace(\")\", \"\").replace(\"(\", \"\"),\n",
    "                    l, overlapped=True)\n",
    "    xs = [int(x) if x.isdigit() else ll[x] for x in xs]\n",
    "    return 10*xs[0] + xs[-1]\n",
    "    \n",
    "sum([*map(cal1, ls)]), sum([*map(cal2, ls)])"
   ]
  },
  {
   "cell_type": "code",
   "execution_count": 55,
   "id": "b815e829",
   "metadata": {},
   "outputs": [
    {
     "data": {
      "text/plain": [
       "(2207, 62241)"
      ]
     },
     "execution_count": 55,
     "metadata": {},
     "output_type": "execute_result"
    }
   ],
   "source": [
    "from functools import reduce\n",
    "\n",
    "prod = lambda ls: reduce(lambda x,y: x*y, ls)\n",
    "\n",
    "ls = open(\"2\").read().split(\"\\n\")\n",
    "def parse(l):\n",
    "    rs = l.split(\":\")[1].split(\";\")\n",
    "    rs = [r.split(\",\") for r in rs]\n",
    "    rs = [[x.strip().split(\" \") for x in r] for r in rs]\n",
    "    rs = [dict([(y,int(x)) for x,y in r]) for r in rs]\n",
    "    return rs\n",
    "\n",
    "init = {\"red\": 12, \"green\": 13, \"blue\": 14}\n",
    "def isposs(rs):\n",
    "    return all(all(init[c] >= i for c,i in r.items()) for r in rs)\n",
    "def power(g):\n",
    "    return prod(max(r[c] if c in r else 0 for r in g) for c in init.keys())\n",
    "\n",
    "games = [*map(parse,ls)]\n",
    "sum(i+1 for i,g in enumerate(games) if isposs(g)), sum(map(power, games))"
   ]
  },
  {
   "cell_type": "code",
   "execution_count": 111,
   "id": "7ff09868",
   "metadata": {},
   "outputs": [
    {
     "data": {
      "text/plain": [
       "(536202, 78272573)"
      ]
     },
     "execution_count": 111,
     "metadata": {},
     "output_type": "execute_result"
    }
   ],
   "source": [
    "import re\n",
    "from itertools import product\n",
    "\n",
    "ls = \"\"\"467..114..\n",
    "...*......\n",
    "..35..633.\n",
    "......#...\n",
    "617*......\n",
    ".....+.58.\n",
    "..592.....\n",
    "......755.\n",
    "...$.*....\n",
    ".664.598..\"\"\".split(\"\\n\")\n",
    "ls = [*open(\"3\")]\n",
    "def adjacent(n):\n",
    "    (y,x),s = n\n",
    "    r = []\n",
    "    for i in range(len(s)):\n",
    "        for dy,dx in product((-1,0,1), repeat=2):\n",
    "            #print((y+dy, x+i+dx))\n",
    "            if (y+dy, x+i+dx) in alls: r.append((y+dy, x+i+dx))\n",
    "    return set(r)\n",
    "\n",
    "is_part = lambda n: len(adjacent(n)) != 0\n",
    "gear_ratio = lambda s: [int(nums[i][1]) for i,a in enumerate(adj) if s in a]\n",
    "\n",
    "allss = [((y,x),c) for y,l in enumerate(ls) for x,c in enumerate(l) if c not in \"1234567890.\"]\n",
    "alls = [x for x,y in allss]\n",
    "p = re.compile(r\"\\d+\")\n",
    "nums = [((y,m.start()), m.group()) for y,l in enumerate(ls) for m in p.finditer(l)]\n",
    "adj = [*map(adjacent, nums)]\n",
    "parts = [*filter(is_part, nums)]\n",
    "stars = [x for x,y in allss if y == \"*\"]\n",
    "\n",
    "sum([int(y) for x,y in parts]), sum([prod(xs) for xs in map(gear_ratio, stars) if len(xs) == 2])"
   ]
  },
  {
   "cell_type": "code",
   "execution_count": 8,
   "id": "f9743c15",
   "metadata": {},
   "outputs": [
    {
     "data": {
      "text/plain": [
       "(21485, 11024379)"
      ]
     },
     "execution_count": 8,
     "metadata": {},
     "output_type": "execute_result"
    }
   ],
   "source": [
    "import re\n",
    "\n",
    "ls = \"\"\"Card 1: 41 48 83 86 17 | 83 86  6 31 17  9 48 53\n",
    "Card 2: 13 32 20 16 61 | 61 30 68 82 17 32 24 19\n",
    "Card 3:  1 21 53 59 44 | 69 82 63 72 16 21 14  1\n",
    "Card 4: 41 92 73 84 69 | 59 84 76 51 58  5 54 83\n",
    "Card 5: 87 83 26 28 32 | 88 30 70 12 93 22 82 36\n",
    "Card 6: 31 18 13 56 72 | 74 77 10 23 35 67 36 11\"\"\".split(\"\\n\")\n",
    "ls = [*open(\"4\")]\n",
    "def parse(l):\n",
    "    x,y = l.split(\": \")[1].split(\"|\")\n",
    "    return [*map(int, re.findall(\"\\d+\", x))], [*map(int, re.findall(\"\\d+\", y))]\n",
    "def nmatch(ns):\n",
    "    x,y = ns\n",
    "    return len(set(x) & set(y))\n",
    "def score(ns):\n",
    "    s = nmatch(ns)\n",
    "    return 0 if s == 0 else 2**(s-1)\n",
    "def next_cards(i):\n",
    "    return [*range(i+1, i+1+nmatch(ns[i]))]\n",
    "\n",
    "ns = [*map(parse, ls)]\n",
    "toproc = {i:1 for i in range(len(ns))}\n",
    "curr = toproc.copy()\n",
    "while len(toproc):\n",
    "    ntoproc = {}\n",
    "    for idd,num in toproc.items():\n",
    "        nc = next_cards(idd)\n",
    "        for n in nc:\n",
    "            if n not in curr: curr[n] = 0\n",
    "            if n not in ntoproc: ntoproc[n] = 0\n",
    "            curr[n] += num\n",
    "            ntoproc[n] += num\n",
    "    toproc = ntoproc\n",
    "    \n",
    "sum(map(score, ns)), sum([y for x,y in curr.items()])"
   ]
  },
  {
   "cell_type": "code",
   "execution_count": 7,
   "id": "a89f2b32",
   "metadata": {},
   "outputs": [
    {
     "data": {
      "text/plain": [
       "30"
      ]
     },
     "execution_count": 7,
     "metadata": {},
     "output_type": "execute_result"
    }
   ],
   "source": [
    "sum([y for x,y in curr.items()])"
   ]
  },
  {
   "cell_type": "code",
   "execution_count": 145,
   "id": "924579cf",
   "metadata": {},
   "outputs": [
    {
     "data": {
      "text/plain": [
       "(318728750, 37384986)"
      ]
     },
     "execution_count": 145,
     "metadata": {},
     "output_type": "execute_result"
    }
   ],
   "source": [
    "ls = \"\"\"seeds: 79 14 55 13\n",
    "\n",
    "seed-to-soil map:\n",
    "50 98 2\n",
    "52 50 48\n",
    "\n",
    "soil-to-fertilizer map:\n",
    "0 15 37\n",
    "37 52 2\n",
    "39 0 15\n",
    "\n",
    "fertilizer-to-water map:\n",
    "49 53 8\n",
    "0 11 42\n",
    "42 0 7\n",
    "57 7 4\n",
    "\n",
    "water-to-light map:\n",
    "88 18 7\n",
    "18 25 70\n",
    "\n",
    "light-to-temperature map:\n",
    "45 77 23\n",
    "81 45 19\n",
    "68 64 13\n",
    "\n",
    "temperature-to-humidity map:\n",
    "0 69 1\n",
    "1 0 69\n",
    "\n",
    "humidity-to-location map:\n",
    "60 56 37\n",
    "56 93 4\"\"\".split(\"\\n\\n\")\n",
    "ls = open(\"5\").read().split(\"\\n\\n\")\n",
    "from functools import reduce\n",
    "\n",
    "seeds = [*map(int, ls[0].split(\": \")[1].strip().split(\" \"))]\n",
    "maps = [sorted([[*map(int, x.strip().split(\" \"))] for x in l.split(\"\\n\")[1:]], key=lambda x: x[1]) for l in ls[1:]]\n",
    "\n",
    "seedr1 = [[i,1] for i in seeds]\n",
    "seedr2 = [seeds[2*i:2*i+2] for i in range(len(seeds)//2)]\n",
    "\n",
    "def map_ran(ran, ms):\n",
    "    rs,rl = ran; nr = []\n",
    "    for m in ms:\n",
    "        if rl <= 0: break\n",
    "        ds,ss,l = m\n",
    "        # intervals miss entirely\n",
    "        if ss+l < rs: continue\n",
    "        if rs+rl < ss: break\n",
    "        # ran:     |--------|\n",
    "        # map: |-----|\n",
    "        if ss <= rs and ss+l <= rs+rl:\n",
    "            x = ss+l-rs\n",
    "            nr.append([ds+(rs-ss), x])\n",
    "            rl -= x; rs = ss+l\n",
    "        # ran: |----------|\n",
    "        # map:   |-----|\n",
    "        if rs < ss and rs+rl > ss+l:\n",
    "            x = ss-1-rs\n",
    "            nr.extend([[rs, x], [ds, l]])\n",
    "            rl -= x + l; rs = ss+l\n",
    "        # ran:   |-----|\n",
    "        # map: |---------|\n",
    "        if rs >= ss and rs+rl <= ss+l:\n",
    "            nr.append([ds+(rs-ss), rl])\n",
    "            rl = 0\n",
    "            break\n",
    "        # ran: |-----|\n",
    "        # map:    |---------|\n",
    "        if rs < ss and rs+rl <= ss+l:\n",
    "            nr.extend([[rs, ss-rs], [ds, rs+rl-ss]])\n",
    "            rl = 0\n",
    "            break\n",
    "        \n",
    "    if rl > 0: nr.append([rs, rl])\n",
    "    return nr\n",
    "        \n",
    "def map_rans(rans, ms):\n",
    "    return sum([map_ran(r, ms) for r in rans], start=[])\n",
    "\n",
    "min([x for x,y in reduce(map_rans, maps, seedr1)]), min([x for x,y in reduce(map_rans, maps, seedr2)])"
   ]
  },
  {
   "cell_type": "code",
   "execution_count": 221,
   "id": "017bc0c6",
   "metadata": {},
   "outputs": [
    {
     "data": {
      "text/plain": [
       "(2374848, 39132886)"
      ]
     },
     "execution_count": 221,
     "metadata": {},
     "output_type": "execute_result"
    }
   ],
   "source": [
    "ls = \"\"\"Time:      7  15   30\n",
    "Distance:  9  40  200\"\"\".split(\"\\n\")\n",
    "ls = [*open(\"6\")]\n",
    "\n",
    "import re\n",
    "from functools import reduce\n",
    "from math import sqrt, floor, ceil\n",
    "races1 = [*zip(*(map(int, re.findall(r\"\\d+\", l)) for l in ls))]\n",
    "\n",
    "prod = lambda xs: reduce(lambda x,y:x*y, xs)\n",
    "def ans(r):\n",
    "    T,D = r\n",
    "    d1 = (T + sqrt(T*T - 4*D)) / 2 - .0001\n",
    "    d2 = (T - sqrt(T*T - 4*D)) / 2 + .0001\n",
    "    return floor(d1) - floor(d2)\n",
    "\n",
    "races2 = [*zip(*(map(int, re.findall(r\"\\d+\", l.replace(\" \", \"\"))) for l in ls))]\n",
    "prod(map(ans, races1)), prod(map(ans, races2))"
   ]
  },
  {
   "cell_type": "code",
   "execution_count": 269,
   "id": "b063272f",
   "metadata": {},
   "outputs": [
    {
     "data": {
      "text/plain": [
       "(248761814, 249631254)"
      ]
     },
     "execution_count": 269,
     "metadata": {},
     "output_type": "execute_result"
    }
   ],
   "source": [
    "ls = \"\"\"32T3K 765\n",
    "T55J5 684\n",
    "KK677 28\n",
    "KTJJT 220\n",
    "QQQJA 483\"\"\".split(\"\\n\")\n",
    "ls = [*open(\"7\")]\n",
    "\n",
    "from collections import Counter\n",
    "from itertools import product\n",
    "_card2n = {c:i for i,c in enumerate(\"AKQT98765432J\")}\n",
    "card2n = lambda c: _card2n[c]\n",
    "def get_type(hand):\n",
    "    hs = sorted(Counter(hand).values())\n",
    "    if hs == [5]: return 0\n",
    "    if hs == [1,4]: return 1\n",
    "    if hs == [2,3]: return 2\n",
    "    if hs == [1,1,3]: return 3\n",
    "    if hs == [1,2,2]: return 4\n",
    "    if hs == [1,1,1,2]: return 5\n",
    "    return 6\n",
    "hand2n = lambda h: (get_type(h), *map(card2n, h))\n",
    "\n",
    "def hand2n2(h):\n",
    "    jidx = [i for i,s in enumerate(h) if s == \"J\"]\n",
    "    x = (*map(card2n, h),)\n",
    "    m,nh = (get_type(h), *x), h.copy()\n",
    "    for js in product(\"AKQT98765432J\", repeat=len(jidx)):\n",
    "        for a,b in zip(jidx, js): nh[a] = b\n",
    "        mm = (get_type(nh), *x)\n",
    "        if mm < m: m = mm\n",
    "    return m\n",
    "    \n",
    "hand_bids = [([*x],int(y)) for x,y in [i.split(\" \") for i in ls]]\n",
    "hand_bids = sorted(hand_bids, key=lambda x: hand2n(x[0]), reverse=True)\n",
    "hand_bids2 = sorted(hand_bids, key=lambda x: hand2n2(x[0]), reverse=True)\n",
    "sum([(i+1)*s for i,(_,s) in enumerate(hand_bids)]), sum([(i+1)*s for i,(_,s) in enumerate(hand_bids2)])"
   ]
  },
  {
   "cell_type": "code",
   "execution_count": 328,
   "id": "c969a244",
   "metadata": {},
   "outputs": [
    {
     "data": {
      "text/plain": [
       "(14681, 14321394058031)"
      ]
     },
     "execution_count": 328,
     "metadata": {},
     "output_type": "execute_result"
    }
   ],
   "source": [
    "ls = \"\"\"LLR\n",
    "\n",
    "AAA = (BBB, BBB)\n",
    "BBB = (AAA, ZZZ)\n",
    "ZZZ = (ZZZ, ZZZ)\"\"\".split(\"\\n\")\n",
    "ls = [*open(\"8\")]\n",
    "import re\n",
    "from functools import reduce\n",
    "from math import gcd\n",
    "lcm = lambda x,y: x*y // gcd(x,y)\n",
    "path = [\"LR\".index(x) for x in ls[0].strip()]\n",
    "nodes = {x: (y,z) for x,y,z in (re.findall(r\"[A-Z1-9]+\", l) for l in ls[2:])}\n",
    "\n",
    "def nsteps(start, end_cond):\n",
    "    npt, n = 0, start\n",
    "    while True:\n",
    "        for p in path:\n",
    "            n = nodes[n][p]; npt += 1\n",
    "            if end_cond(n): return npt\n",
    "\n",
    "starts = [*filter(lambda x: x[2] == \"A\", nodes.keys())]\n",
    "cycles = [nsteps(s, lambda x: x[2] == \"Z\") for s in starts]\n",
    "nsteps(\"AAA\", lambda x: x == \"ZZZ\"), reduce(lcm, cycles)"
   ]
  },
  {
   "cell_type": "code",
   "execution_count": 445,
   "id": "205bd7b4",
   "metadata": {},
   "outputs": [
    {
     "data": {
      "text/plain": [
       "[1877825184, 1108]"
      ]
     },
     "execution_count": 445,
     "metadata": {},
     "output_type": "execute_result"
    }
   ],
   "source": [
    "ls = \"\"\"0 3 6 9 12 15\n",
    "1 3 6 10 15 21\n",
    "10 13 16 21 30 45\"\"\".split(\"\\n\")\n",
    "ls = [*open(\"9\")]\n",
    "\n",
    "import re\n",
    "data = [[*map(int, l.split(\" \"))]for l in ls]\n",
    "diff = lambda xs: [xs[i+1] - xs[i] for i in range(len(xs)-1)]\n",
    "\n",
    "def extrapolate(dd):\n",
    "    ds = [dd]\n",
    "    while True:\n",
    "        x = diff(ds[-1])\n",
    "        if set(x) == {0}: return sum(x[-1] for x in ds), sum([1,-1][i&1]*x[0] for i,x in enumerate(ds))\n",
    "        ds.append(x)\n",
    "    \n",
    "[*map(sum, zip(*map(extrapolate, data)))]"
   ]
  },
  {
   "cell_type": "code",
   "execution_count": 70,
   "id": "80ef6c6a",
   "metadata": {},
   "outputs": [
    {
     "data": {
      "text/plain": [
       "(7173, 291)"
      ]
     },
     "execution_count": 70,
     "metadata": {},
     "output_type": "execute_result"
    }
   ],
   "source": [
    "ls = \"\"\".F----7F7F7F7F-7....\n",
    ".|F--7||||||||FJ....\n",
    ".||.FJ||||||||L7....\n",
    "FJL7L7LJLJ||LJ.L-7..\n",
    "L--J.L7...LJS7F-7L7.\n",
    "....F-J..F7FJ|L7L7L7\n",
    "....L7.F7||L7|.L7L7|\n",
    ".....|FJLJ|FJ|F7|.LJ\n",
    "....FJL-7.||.||||...\n",
    "....L---J.LJ.LJLJ...\"\"\".split(\"\\n\")\n",
    "ls = [*open(\"10\")]\n",
    "from itertools import product\n",
    "import sys\n",
    "sys.setrecursionlimit(1000000)\n",
    "\n",
    "sy,sx = len(ls), len(ls[0])\n",
    "start = [(y,x) for y,l in enumerate(ls) for x,c in enumerate(l) if c == \"S\"][0]\n",
    "expect = {\n",
    "    (-1,0): {\"|\": (-2,0), \"7\": (-1,-1), \"F\": (-1,1)},\n",
    "    (1 ,0): {\"|\": (2 ,0), \"L\": (1 , 1), \"J\": (1,-1)},\n",
    "    (0,-1): {\"-\": (0,-2), \"L\": (-1,-1), \"F\": (1,-1)},\n",
    "    (0, 1): {\"-\": (0, 2), \"7\": ( 1, 1), \"J\": (-1,1)}\n",
    "}\n",
    "\n",
    "def getcycle(start):\n",
    "    path = [start]\n",
    "    py,px = start\n",
    "    for dy,dx in [(-1,0), (1,0), (0,-1), (0,1)]:\n",
    "        if (c:=ls[py+dy][px+dx]) in (k := expect[(dy,dx)]).keys():\n",
    "            ldy,ldx = k[c]\n",
    "            lpy=py+ldy; lpx=px+ldx\n",
    "            py+=dy; px+=dx\n",
    "            path.append((py,px))\n",
    "            break\n",
    "    while (lpy,lpx) != start:\n",
    "        d = lpy-py,lpx-px\n",
    "        npy,npx = lpy,lpx\n",
    "        ldy,ldx = expect[d][ls[npy][npx]]\n",
    "        path.append((npy,npx))\n",
    "        lpy = py+ldy; lpx = px+ldx\n",
    "        py,px = npy,npx\n",
    "    return path\n",
    "\n",
    "path = getcycle(start)\n",
    "\n",
    "import numpy as np\n",
    "def enclosed(cycle, pos, marked):\n",
    "    if marked[pos] == 1 or pos in cycle: return\n",
    "    marked[pos] = 1\n",
    "    py,px = pos\n",
    "    for dy,dx in [(-1,0), (1,0), (0,-1), (0,1)]:\n",
    "        npy = py+dy; npx = px+dx\n",
    "        if npy < 0 or npy >= 2*sy or npx < 0 or npx >= 2*sx: continue\n",
    "        enclosed(cycle, (npy,npx), marked)\n",
    "        \n",
    "path2, _path2 = [], [(x*2,y*2) for x,y in path]\n",
    "for i,(x,y) in enumerate(_path2):\n",
    "    a,b = _path2[i-1]\n",
    "    path2.extend([((a+x)//2, (b+y)//2), (x,y)])\n",
    "    \n",
    "marked = np.zeros((sy*2,sx*2), dtype=np.uint8)\n",
    "for y,x in product(range(sy), range(sx)):\n",
    "    if (y > 0 and y < sy-1) or (x > 0 and x < sx-1): continue\n",
    "    enclosed(path2, (2*y+1,2*x+1), marked)\n",
    "for p in path2: marked[p] = 1\n",
    "len(path)//2, len([None for y,x in product(range(sy), range(sx)) if marked[2*y:2*y+2, 2*x:2*x+2].max() == 0])"
   ]
  },
  {
   "cell_type": "code",
   "execution_count": 68,
   "id": "435ee377",
   "metadata": {},
   "outputs": [
    {
     "data": {
      "text/plain": [
       "<matplotlib.image.AxesImage at 0x7ffba52fef10>"
      ]
     },
     "execution_count": 68,
     "metadata": {},
     "output_type": "execute_result"
    },
    {
     "data": {
      "image/png": "[encoded data removed]",
      "text/plain": [
       "<Figure size 432x288 with 1 Axes>"
      ]
     },
     "metadata": {
      "needs_background": "light"
     },
     "output_type": "display_data"
    }
   ],
   "source": [
    "import matplotlib.pyplot as plt\n",
    "plt.imshow(marked)"
   ]
  },
  {
   "cell_type": "code",
   "execution_count": 2,
   "id": "af9f904b",
   "metadata": {},
   "outputs": [
    {
     "data": {
      "text/plain": [
       "(9681886, 791134099634)"
      ]
     },
     "execution_count": 2,
     "metadata": {},
     "output_type": "execute_result"
    }
   ],
   "source": [
    "ls = \"\"\"...#......\n",
    ".......#..\n",
    "#.........\n",
    "..........\n",
    "......#...\n",
    ".#........\n",
    ".........#\n",
    "..........\n",
    ".......#..\n",
    "#...#.....\"\"\".split(\"\\n\")\n",
    "ls = [*open(\"11\")]\n",
    "import numpy as np\n",
    "from itertools import combinations_with_replacement\n",
    "uni = np.array([[\".#\".index(c) for c in l.strip()] for l in ls], dtype=np.uint64)\n",
    "\n",
    "def ans(scale):\n",
    "    dist = np.ones((len(uni), len(uni[0])), dtype=np.uint64)\n",
    "    dist[:,np.where(uni.sum(axis=0) == 0)] = scale\n",
    "    dist[np.where(uni.sum(axis=1) == 0),:] = scale\n",
    "    def distance(p1,p2):\n",
    "        y,x = p1; b,a = p2\n",
    "        i,j = sorted([y,b]); k,l = sorted([x,a])\n",
    "        return int(dist[i:j,x].sum()) + int(dist[y,k:l].sum())\n",
    "    galaxies = [*zip(*np.where(uni == 1))]\n",
    "    return sum(distance(p1,p2) for p1,p2 in combinations_with_replacement(galaxies, 2))\n",
    "\n",
    "ans(2), ans(1000000)"
   ]
  },
  {
   "cell_type": "code",
   "execution_count": 2,
   "id": "4cb95243",
   "metadata": {},
   "outputs": [
    {
     "name": "stderr",
     "output_type": "stream",
     "text": [
      "100%|███████████████████████████████████████████████████████████████████████████████| 1000/1000 [00:23<00:00, 43.23it/s]\n"
     ]
    },
    {
     "data": {
      "text/plain": [
       "[7118, 7030194981795]"
      ]
     },
     "execution_count": 2,
     "metadata": {},
     "output_type": "execute_result"
    }
   ],
   "source": [
    "ls = \"\"\"???.### 1,1,3\n",
    ".??..??...?##. 1,1,3\n",
    "?#?#?#?#?#?#?#? 1,3,1,6\n",
    "????.#...#... 4,1,1\n",
    "????.######..#####. 1,6,5\n",
    "?###???????? 3,2,1\"\"\".split(\"\\n\")\n",
    "ls = [*open(\"12\")]\n",
    "import re\n",
    "from tqdm import tqdm\n",
    "from functools import lru_cache\n",
    "games = [(x, (*map(int, y.split(\",\")),)) for x,y in (l.strip().split(\" \") for l in ls)]\n",
    "games2 = [(\"?\".join([x]*5), y*5) for x,y in games]\n",
    "\n",
    "@lru_cache(maxsize=None)\n",
    "def count_poss(g):\n",
    "    pos, hints = g\n",
    "    if \"?\" not in pos:\n",
    "        l = [*map(len, re.findall(r\"#+\", pos))]\n",
    "        return len(l) == len(hints) and int(all(x==y for x,y in zip(l, hints)))\n",
    "    i,p = pos.index(\"?\"), re.compile(r\"#+\\.\")\n",
    "    y = [(m.start(), m.end()) for m in p.finditer(pos[:i+1])]\n",
    "    x = [y-x-1 for x,y in y]\n",
    "    if len(hints) < len(x) or any(x!=y for x,y in zip(x,hints)): return 0\n",
    "    j,nh = 0 if len(y) == 0 else y[-1][1], hints[len(x):]\n",
    "    return sum(count_poss(((pos[j:i]+x+pos[i+1:]).strip(\".\"), nh)) for x in \".#\")\n",
    "    \n",
    "[sum(map(count_poss, gs)) for gs in [games, tqdm(games2)]]"
   ]
  },
  {
   "cell_type": "code",
   "execution_count": null,
   "id": "d4290630",
   "metadata": {},
   "outputs": [],
   "source": []
  },
  {
   "cell_type": "code",
   "execution_count": null,
   "id": "16b27f33",
   "metadata": {},
   "outputs": [],
   "source": []
  }
 ],
 "metadata": {
  "kernelspec": {
   "display_name": "Python 3 (ipykernel)",
   "language": "python",
   "name": "python3"
  },
  "language_info": {
   "codemirror_mode": {
    "name": "ipython",
    "version": 3
   },
   "file_extension": ".py",
   "mimetype": "text/x-python",
   "name": "python",
   "nbconvert_exporter": "python",
   "pygments_lexer": "ipython3",
   "version": "3.8.10"
  }
 },
 "nbformat": 4,
 "nbformat_minor": 5
}
